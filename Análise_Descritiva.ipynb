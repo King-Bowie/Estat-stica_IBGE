{
 "cells": [
  {
   "cell_type": "markdown",
   "metadata": {
    "colab_type": "text",
    "id": "view-in-github"
   },
   "source": [
    "<a href=\"https://colab.research.google.com/github/King-Bowie/Estatistica_IBGE/blob/main/An%C3%A1lise_Descritiva.ipynb\" target=\"_parent\"><img src=\"https://colab.research.google.com/assets/colab-badge.svg\" alt=\"Open In Colab\"/></a>"
   ]
  },
  {
   "cell_type": "markdown",
   "metadata": {
    "id": "WvMflodMjQKe"
   },
   "source": [
    "***\n",
    "# <font color=Red size=10>Análise estatística - PARTE 1</font>\n",
    "***\n",
    "\n",
    "## Trabalho de Análise Descritiva de um Conjunto de Dados\n",
    "\n",
    "Utilizando os conhecimentos adquiridos em estudos de estatítica realizo uma análise descritiva básica de um conjunto de dados retirados da Pesquisa Nacional por Amostra de Domicílios - 2015 do IBGE. \n",
    "\n",
    "Será utilizado: histogramas, calcular e avaliar medidas de tendência central, medidas separatrizes e de dispersão dos dados."
   ]
  },
  {
   "cell_type": "markdown",
   "metadata": {
    "id": "cVgsZ_E3jQKg"
   },
   "source": [
    "# <font color=Red>DATASET DO PROJETO</font>\n",
    "***"
   ]
  },
  {
   "cell_type": "markdown",
   "metadata": {
    "id": "iN1gIbaKjQKh"
   },
   "source": [
    "### Pesquisa Nacional por Amostra de Domicílios - 2015\n",
    "\n",
    "A <b>Pesquisa Nacional por Amostra de Domicílios - PNAD</b> investiga anualmente, de forma permanente, características gerais da população, de educação, trabalho, rendimento e habitação e outras, com periodicidade variável, de acordo com as necessidades de informação para o país, como as características sobre migração, fecundidade, nupcialidade, saúde, segurança alimentar, entre outros temas. O levantamento dessas estatísticas constitui, ao longo dos 49 anos de realização da pesquisa, um importante instrumento para formulação, validação e avaliação de políticas orientadas para o desenvolvimento socioeconômico e a melhoria das condições de vida no Brasil."
   ]
  },
  {
   "cell_type": "markdown",
   "metadata": {
    "id": "U6V7br1RjQKi"
   },
   "source": [
    "### Fonte dos Dados\n",
    "\n",
    "https://ww2.ibge.gov.br/home/estatistica/populacao/trabalhoerendimento/pnad2015/microdados.shtm"
   ]
  },
  {
   "cell_type": "markdown",
   "metadata": {
    "id": "r0Fe_qnzjQKj"
   },
   "source": [
    "### Variáveis utilizadas\n",
    "\n",
    "> ### Renda\n",
    "> ***\n",
    "\n",
    "Rendimento mensal do trabalho principal para pessoas de 10 anos ou mais de idade.\n",
    "\n",
    "> ### Idade\n",
    "> ***\n",
    "\n",
    "Idade do morador na data de referência em anos.\n",
    "\n",
    "> ### Altura (elaboração própria)\n",
    "> ***\n",
    "\n",
    "Altura do morador em metros.\n",
    "\n",
    "> ### UF\n",
    "> ***\n",
    "\n",
    "|Código|Descrição|\n",
    "|---|---|\n",
    "|11|Rondônia|\n",
    "|12|Acre|\n",
    "|13|Amazonas|\n",
    "|14|Roraima|\n",
    "|15|Pará|\n",
    "|16|Amapá|\n",
    "|17|Tocantins|\n",
    "|21|Maranhão|\n",
    "|22|Piauí|\n",
    "|23|Ceará|\n",
    "|24|Rio Grande do Norte|\n",
    "|25|Paraíba|\n",
    "|26|Pernambuco|\n",
    "|27|Alagoas|\n",
    "|28|Sergipe|\n",
    "|29|Bahia|\n",
    "|31|Minas Gerais|\n",
    "|32|Espírito Santo|\n",
    "|33|Rio de Janeiro|\n",
    "|35|São Paulo|\n",
    "|41|Paraná|\n",
    "|42|Santa Catarina|\n",
    "|43|Rio Grande do Sul|\n",
    "|50|Mato Grosso do Sul|\n",
    "|51|Mato Grosso|\n",
    "|52|Goiás|\n",
    "|53|Distrito Federal|\n",
    "\n",
    "> ### Sexo\t\n",
    "> ***\n",
    "\n",
    "|Código|Descrição|\n",
    "|---|---|\n",
    "|0|Masculino|\n",
    "|1|Feminino|\n",
    "\n",
    "> ### Anos de Estudo\n",
    "> ***\n",
    "\n",
    "|Código|Descrição|\n",
    "|---|---|\n",
    "|1|Sem instrução e menos de 1 ano|\n",
    "|2|1 ano|\n",
    "|3|2 anos|\n",
    "|4|3 anos|\n",
    "|5|4 anos|\n",
    "|6|5 anos|\n",
    "|7|6 anos|\n",
    "|8|7 anos|\n",
    "|9|8 anos|\n",
    "|10|9 anos|\n",
    "|11|10 anos|\n",
    "|12|11 anos|\n",
    "|13|12 anos|\n",
    "|14|13 anos|\n",
    "|15|14 anos|\n",
    "|16|15 anos ou mais|\n",
    "|17|Não determinados| \n",
    "||Não aplicável|\n",
    "\n",
    "> ### Cor\n",
    "> ***\n",
    "\n",
    "|Código|Descrição|\n",
    "|---|---|\n",
    "|0|Indígena|\n",
    "|2|Branca|\n",
    "|4|Preta|\n",
    "|6|Amarela|\n",
    "|8|Parda|\n",
    "|9|Sem declaração|"
   ]
  },
  {
   "cell_type": "markdown",
   "metadata": {
    "id": "OK1IQH5cX7Gb"
   },
   "source": [
    "#### <font color='red'>Observação</font>\n",
    "***\n",
    "> Os seguintes tratamentos foram realizados nos dados originais:\n",
    "> 1. Foram eliminados os registros onde a <b>Renda</b> era inválida (999 999 999 999);\n",
    "> 2. Foram eliminados os registros onde a <b>Renda</b> era missing;\n",
    "> 3. Foram considerados somente os registros das <b>Pessoas de Referência</b> de cada domicílio (responsável pelo domicílio)."
   ]
  },
  {
   "cell_type": "markdown",
   "metadata": {
    "id": "ZIqLOffNTg1Y"
   },
   "source": [
    "***\n",
    "***"
   ]
  },
  {
   "cell_type": "code",
   "execution_count": null,
   "metadata": {
    "id": "fcTgimHBybMz"
   },
   "outputs": [],
   "source": [
    "import seaborn as sns\n",
    "import matplotlib.pyplot as plt\n",
    "import numpy as np\n",
    "import pandas as pd\n",
    "sns.set_theme(style=\"whitegrid\")"
   ]
  },
  {
   "cell_type": "markdown",
   "metadata": {
    "id": "2a-gvBvCULwt"
   },
   "source": [
    "### Importe o dataset e armazene o conteúdo em uma DataFrame"
   ]
  },
  {
   "cell_type": "code",
   "execution_count": null,
   "metadata": {
    "id": "ufRZ7TLwjQKo"
   },
   "outputs": [],
   "source": [
    "dados = pd.read_csv('https://raw.githubusercontent.com/King-Bowie/Estatistica_IBGE/main/dados/dados.csv')"
   ]
  },
  {
   "cell_type": "markdown",
   "metadata": {
    "id": "Oq3CKHCmTg1j"
   },
   "source": [
    "### Visualize o conteúdo do DataFrame"
   ]
  },
  {
   "cell_type": "code",
   "execution_count": null,
   "metadata": {
    "colab": {
     "base_uri": "https://localhost:8080/",
     "height": 206
    },
    "id": "GsC_WhLFjQKq",
    "outputId": "f2efb529-c305-4e7a-d5c7-aeb354ce2f32",
    "scrolled": true
   },
   "outputs": [
    {
     "data": {
      "text/html": [
       "<div>\n",
       "<style scoped>\n",
       "    .dataframe tbody tr th:only-of-type {\n",
       "        vertical-align: middle;\n",
       "    }\n",
       "\n",
       "    .dataframe tbody tr th {\n",
       "        vertical-align: top;\n",
       "    }\n",
       "\n",
       "    .dataframe thead th {\n",
       "        text-align: right;\n",
       "    }\n",
       "</style>\n",
       "<table border=\"1\" class=\"dataframe\">\n",
       "  <thead>\n",
       "    <tr style=\"text-align: right;\">\n",
       "      <th></th>\n",
       "      <th>UF</th>\n",
       "      <th>Sexo</th>\n",
       "      <th>Idade</th>\n",
       "      <th>Cor</th>\n",
       "      <th>Anos de Estudo</th>\n",
       "      <th>Renda</th>\n",
       "      <th>Altura</th>\n",
       "    </tr>\n",
       "  </thead>\n",
       "  <tbody>\n",
       "    <tr>\n",
       "      <th>0</th>\n",
       "      <td>11</td>\n",
       "      <td>0</td>\n",
       "      <td>23</td>\n",
       "      <td>8</td>\n",
       "      <td>12</td>\n",
       "      <td>800</td>\n",
       "      <td>1.603808</td>\n",
       "    </tr>\n",
       "    <tr>\n",
       "      <th>1</th>\n",
       "      <td>11</td>\n",
       "      <td>1</td>\n",
       "      <td>23</td>\n",
       "      <td>2</td>\n",
       "      <td>12</td>\n",
       "      <td>1150</td>\n",
       "      <td>1.739790</td>\n",
       "    </tr>\n",
       "    <tr>\n",
       "      <th>2</th>\n",
       "      <td>11</td>\n",
       "      <td>1</td>\n",
       "      <td>35</td>\n",
       "      <td>8</td>\n",
       "      <td>15</td>\n",
       "      <td>880</td>\n",
       "      <td>1.760444</td>\n",
       "    </tr>\n",
       "    <tr>\n",
       "      <th>3</th>\n",
       "      <td>11</td>\n",
       "      <td>0</td>\n",
       "      <td>46</td>\n",
       "      <td>2</td>\n",
       "      <td>6</td>\n",
       "      <td>3500</td>\n",
       "      <td>1.783158</td>\n",
       "    </tr>\n",
       "    <tr>\n",
       "      <th>4</th>\n",
       "      <td>11</td>\n",
       "      <td>1</td>\n",
       "      <td>47</td>\n",
       "      <td>8</td>\n",
       "      <td>9</td>\n",
       "      <td>150</td>\n",
       "      <td>1.690631</td>\n",
       "    </tr>\n",
       "  </tbody>\n",
       "</table>\n",
       "</div>"
      ],
      "text/plain": [
       "   UF  Sexo  Idade  Cor  Anos de Estudo  Renda    Altura\n",
       "0  11     0     23    8              12    800  1.603808\n",
       "1  11     1     23    2              12   1150  1.739790\n",
       "2  11     1     35    8              15    880  1.760444\n",
       "3  11     0     46    2               6   3500  1.783158\n",
       "4  11     1     47    8               9    150  1.690631"
      ]
     },
     "execution_count": 3,
     "metadata": {},
     "output_type": "execute_result"
    }
   ],
   "source": [
    "dados.head()"
   ]
  },
  {
   "cell_type": "markdown",
   "metadata": {
    "id": "HDrFJQitTg1n"
   },
   "source": [
    "### Para avaliarmos o comportamento da variável RENDA vamos construir uma tabela de frequências considerando as seguintes classes em salários mínimos (SM)\n",
    "\n",
    "Classes de renda:\n",
    "\n",
    "<b>A</b> ► Acima de 25 SM\n",
    "\n",
    "<b>B</b> ► De 15 a 25 SM\n",
    "\n",
    "<b>C</b> ► De 5 a 15 SM\n",
    "\n",
    "<b>D</b> ► De 2 a 5 SM\n",
    "\n",
    "<b>E</b> ► Até 2 SM\n",
    "\n",
    "Para construir as classes de renda considere que o salário mínimo na época da pesquisa era de <b>R$ 788,00</b>.\n",
    "\n",
    "#### Siga os passos abaixo:"
   ]
  },
  {
   "cell_type": "markdown",
   "metadata": {
    "id": "zJBkeGxiTg1o"
   },
   "source": [
    "### 1º Definir os intevalos das classes em reais (R$)"
   ]
  },
  {
   "cell_type": "code",
   "execution_count": null,
   "metadata": {
    "colab": {
     "base_uri": "https://localhost:8080/"
    },
    "id": "Xr9deGwxTT-H",
    "outputId": "3b7f8806-ad54-4065-db55-db1f822250f9"
   },
   "outputs": [
    {
     "data": {
      "text/plain": [
       "200000"
      ]
     },
     "execution_count": 4,
     "metadata": {},
     "output_type": "execute_result"
    }
   ],
   "source": [
    "dados.Renda.max()"
   ]
  },
  {
   "cell_type": "code",
   "execution_count": null,
   "metadata": {
    "colab": {
     "base_uri": "https://localhost:8080/"
    },
    "id": "Y-zriKhMTT9O",
    "outputId": "e7a1bd8e-82ac-4184-f3b2-111a78376a51"
   },
   "outputs": [
    {
     "data": {
      "text/plain": [
       "0"
      ]
     },
     "execution_count": 5,
     "metadata": {},
     "output_type": "execute_result"
    }
   ],
   "source": [
    "dados.Renda.min()"
   ]
  },
  {
   "cell_type": "code",
   "execution_count": null,
   "metadata": {
    "id": "-Ct3QUj6Tg1p"
   },
   "outputs": [],
   "source": [
    "classes = [dados.Renda.min(),2*788,5*788,15*788,25*788,dados.Renda.max()]"
   ]
  },
  {
   "cell_type": "markdown",
   "metadata": {
    "id": "dZ7X37CGTg1t"
   },
   "source": [
    "### 2º Definir os labels das classes"
   ]
  },
  {
   "cell_type": "code",
   "execution_count": null,
   "metadata": {
    "id": "4UFOzitTTg1u"
   },
   "outputs": [],
   "source": [
    "labels = [ 'Até 2 SM','Até 5 SM','Até 15 SM','Até 25 SM','Acima 25 SM']"
   ]
  },
  {
   "cell_type": "markdown",
   "metadata": {
    "id": "umFq1o-UTg1w"
   },
   "source": [
    "### 3º Construir a coluna de frequências"
   ]
  },
  {
   "cell_type": "code",
   "execution_count": null,
   "metadata": {
    "colab": {
     "base_uri": "https://localhost:8080/"
    },
    "id": "MDlpR0JPU4H9",
    "outputId": "62cca1fa-ad44-4a80-bad1-e4dece950230"
   },
   "outputs": [
    {
     "data": {
      "text/plain": [
       "0        Até 2 SM\n",
       "1        Até 2 SM\n",
       "2        Até 2 SM\n",
       "3        Até 5 SM\n",
       "4        Até 2 SM\n",
       "           ...   \n",
       "76835    Até 2 SM\n",
       "76836    Até 2 SM\n",
       "76837    Até 2 SM\n",
       "76838    Até 2 SM\n",
       "76839    Até 2 SM\n",
       "Name: Renda, Length: 76840, dtype: category\n",
       "Categories (5, object): ['Até 2 SM' < 'Até 5 SM' < 'Até 15 SM' < 'Até 25 SM' < 'Acima 25 SM']"
      ]
     },
     "execution_count": 8,
     "metadata": {},
     "output_type": "execute_result"
    }
   ],
   "source": [
    " pd.cut(x = dados.Renda,\n",
    "            bins = classes,\n",
    "            labels = labels,\n",
    "            include_lowest = True)"
   ]
  },
  {
   "cell_type": "code",
   "execution_count": null,
   "metadata": {
    "colab": {
     "base_uri": "https://localhost:8080/"
    },
    "id": "Y47wN5TyU51l",
    "outputId": "a1b771aa-6caf-4063-a169-a931533fdd0b"
   },
   "outputs": [
    {
     "data": {
      "text/plain": [
       "0     800\n",
       "1    1150\n",
       "2     880\n",
       "3    3500\n",
       "4     150\n",
       "Name: Renda, dtype: int64"
      ]
     },
     "execution_count": 9,
     "metadata": {},
     "output_type": "execute_result"
    }
   ],
   "source": [
    "dados.Renda.head()"
   ]
  },
  {
   "cell_type": "code",
   "execution_count": null,
   "metadata": {
    "colab": {
     "base_uri": "https://localhost:8080/"
    },
    "id": "uSztBoqOTg1x",
    "outputId": "2e47810e-2741-4f0c-dfee-3b39f56483cd"
   },
   "outputs": [
    {
     "data": {
      "text/plain": [
       "Até 2 SM       49755\n",
       "Até 5 SM       18602\n",
       "Até 15 SM       7241\n",
       "Até 25 SM        822\n",
       "Acima 25 SM      420\n",
       "Name: Renda, dtype: int64"
      ]
     },
     "execution_count": 10,
     "metadata": {},
     "output_type": "execute_result"
    }
   ],
   "source": [
    "contagem = pd.value_counts(\n",
    "                pd.cut(x = dados.Renda,\n",
    "                bins = classes,\n",
    "                labels = labels,\n",
    "                include_lowest = True)\n",
    "           )\n",
    "contagem"
   ]
  },
  {
   "cell_type": "markdown",
   "metadata": {
    "id": "2k6nGUZKTg11"
   },
   "source": [
    "### 4º Construir a coluna de percentuais"
   ]
  },
  {
   "cell_type": "code",
   "execution_count": null,
   "metadata": {
    "id": "rdwUABsnTg12"
   },
   "outputs": [],
   "source": [
    "porcentagem = pd.value_counts(\n",
    "                pd.cut(x = dados.Renda,\n",
    "                          bins = classes,\n",
    "                          labels = labels,\n",
    "                          include_lowest = True),\n",
    "              normalize = True) * 100"
   ]
  },
  {
   "cell_type": "markdown",
   "metadata": {
    "id": "9dvk6-9_Tg16"
   },
   "source": [
    "### 5º Juntar as colunas de frequência e percentuais e ordenar as linhas de acordo com os labels das classes"
   ]
  },
  {
   "cell_type": "code",
   "execution_count": null,
   "metadata": {
    "colab": {
     "base_uri": "https://localhost:8080/",
     "height": 206
    },
    "id": "tO_bcMmgTg16",
    "outputId": "915e1812-a148-42a7-cb8e-ad931e6e1966"
   },
   "outputs": [
    {
     "data": {
      "text/html": [
       "<div>\n",
       "<style scoped>\n",
       "    .dataframe tbody tr th:only-of-type {\n",
       "        vertical-align: middle;\n",
       "    }\n",
       "\n",
       "    .dataframe tbody tr th {\n",
       "        vertical-align: top;\n",
       "    }\n",
       "\n",
       "    .dataframe thead th {\n",
       "        text-align: right;\n",
       "    }\n",
       "</style>\n",
       "<table border=\"1\" class=\"dataframe\">\n",
       "  <thead>\n",
       "    <tr style=\"text-align: right;\">\n",
       "      <th></th>\n",
       "      <th>Porcentagem (%)</th>\n",
       "      <th>Frequência</th>\n",
       "    </tr>\n",
       "  </thead>\n",
       "  <tbody>\n",
       "    <tr>\n",
       "      <th>Até 2 SM</th>\n",
       "      <td>64.751432</td>\n",
       "      <td>49755</td>\n",
       "    </tr>\n",
       "    <tr>\n",
       "      <th>Até 5 SM</th>\n",
       "      <td>24.208745</td>\n",
       "      <td>18602</td>\n",
       "    </tr>\n",
       "    <tr>\n",
       "      <th>Até 15 SM</th>\n",
       "      <td>9.423477</td>\n",
       "      <td>7241</td>\n",
       "    </tr>\n",
       "    <tr>\n",
       "      <th>Até 25 SM</th>\n",
       "      <td>1.069755</td>\n",
       "      <td>822</td>\n",
       "    </tr>\n",
       "    <tr>\n",
       "      <th>Acima 25 SM</th>\n",
       "      <td>0.546590</td>\n",
       "      <td>420</td>\n",
       "    </tr>\n",
       "  </tbody>\n",
       "</table>\n",
       "</div>"
      ],
      "text/plain": [
       "             Porcentagem (%)  Frequência\n",
       "Até 2 SM           64.751432       49755\n",
       "Até 5 SM           24.208745       18602\n",
       "Até 15 SM           9.423477        7241\n",
       "Até 25 SM           1.069755         822\n",
       "Acima 25 SM         0.546590         420"
      ]
     },
     "execution_count": 12,
     "metadata": {},
     "output_type": "execute_result"
    }
   ],
   "source": [
    "tabela_rendas = pd.DataFrame( {'Porcentagem (%)': porcentagem, 'Frequência': contagem})\n",
    "tabela_rendas"
   ]
  },
  {
   "cell_type": "markdown",
   "metadata": {
    "id": "DOYtXuSbTg18"
   },
   "source": [
    "### Construa um gráfico de barras para visualizar as informações da tabela de frequências acima"
   ]
  },
  {
   "cell_type": "code",
   "execution_count": null,
   "metadata": {
    "colab": {
     "base_uri": "https://localhost:8080/"
    },
    "id": "e4mDPKf1Tg18",
    "outputId": "0398fe11-0a08-4d6b-d519-f0beeb3a615a"
   },
   "outputs": [
    {
     "data": {
      "image/png": "[encoded data removed]",
      "text/plain": [
       "<Figure size 864x432 with 1 Axes>"
      ]
     },
     "metadata": {
      "needs_background": "light"
     },
     "output_type": "display_data"
    }
   ],
   "source": [
    "plt.figure(figsize=(12,6))\n",
    "sns.barplot(data= tabela_rendas, x= tabela_rendas['Porcentagem (%)'],\n",
    "            y=tabela_rendas.index,\n",
    "            orient='h')\n",
    "plt.title('Distribuição da Renda brasileira',fontweight= 'bold')\n",
    "plt.show()"
   ]
  },
  {
   "cell_type": "markdown",
   "metadata": {
    "id": "9ppt5JevTg1-"
   },
   "source": [
    "> ### Conclusões\n",
    "\n",
    "Podemos analisar que grande parte da população (acima de 60%) recebe até 2 salários mínimos, e vai diminuindo a frequência de pessoas de forma desproporcional de acordo com o aumento das classes salariais. \n",
    "\n",
    "Este é o retrato da desiguadade de renda no Brasil em 2015.\n",
    "\n",
    "Saiba mais: <a href='https://exame.com/economia/brasil-e-mais-desigual-do-que-se-imaginava-diz-pesquisador/'> reportagem do jornal Exame publicada em 2016</a>"
   ]
  },
  {
   "cell_type": "markdown",
   "metadata": {
    "id": "yt-gFm93Tg1-"
   },
   "source": [
    "###Histograma com as variáveis QUANTITATIVAS de nosso dataset\n"
   ]
  },
  {
   "cell_type": "code",
   "execution_count": null,
   "metadata": {
    "colab": {
     "base_uri": "https://localhost:8080/"
    },
    "id": "DYjq9xasTg1_",
    "outputId": "3efe66ea-f500-4ccf-cc39-9f8f1b0f4030"
   },
   "outputs": [
    {
     "data": {
      "image/png": "[encoded data removed]",
      "text/plain": [
       "<Figure size 864x432 with 1 Axes>"
      ]
     },
     "metadata": {
      "needs_background": "light"
     },
     "output_type": "display_data"
    }
   ],
   "source": [
    "plt.figure(figsize=(12,6))\n",
    "sns.histplot(dados['Renda'],kde=True,bins=90)\n",
    "plt.ylabel('Quantidade de pessoas',fontsize=15)\n",
    "plt.xlabel('Renda R$',fontsize=15)\n",
    "plt.title('Distribuição de Frequência - Renda no Brasil',fontsize=15, fontweight = 'bold')\n",
    "plt.show()"
   ]
  },
  {
   "cell_type": "code",
   "execution_count": null,
   "metadata": {
    "colab": {
     "base_uri": "https://localhost:8080/"
    },
    "id": "uh2CWIG8Tg2A",
    "outputId": "8133f6c1-7d3e-4153-d5b3-65d8d1f5dc27"
   },
   "outputs": [
    {
     "data": {
      "image/png": "[encoded data removed]",
      "text/plain": [
       "<Figure size 864x432 with 1 Axes>"
      ]
     },
     "metadata": {
      "needs_background": "light"
     },
     "output_type": "display_data"
    }
   ],
   "source": [
    "plt.figure(figsize=(12,6))\n",
    "sns.histplot(dados.Altura,kde=True)\n",
    "plt.ylabel('Quantidade de pessoas',fontsize=15)\n",
    "plt.xlabel('Altura em Metros',fontsize=15)\n",
    "plt.title('Distribuição de Frequência - Altura entre Brasileiros',fontsize=15, fontweight = 'bold')\n",
    "plt.show()"
   ]
  },
  {
   "cell_type": "code",
   "execution_count": null,
   "metadata": {
    "colab": {
     "base_uri": "https://localhost:8080/"
    },
    "id": "s55WPk1aTg2C",
    "outputId": "42ecfa70-1023-4c95-d374-06d556db995b"
   },
   "outputs": [
    {
     "data": {
      "image/png": "[encoded data removed]",
      "text/plain": [
       "<Figure size 864x432 with 1 Axes>"
      ]
     },
     "metadata": {
      "needs_background": "light"
     },
     "output_type": "display_data"
    }
   ],
   "source": [
    "plt.figure(figsize=(12,6))\n",
    "sns.histplot(dados.Idade,kde=True)\n",
    "plt.ylabel('Quantidade de pessoas',fontsize=15)\n",
    "plt.xlabel('Idade',fontsize=15)\n",
    "plt.title('Distribuição de Frequência - Idade entre Brasileiros',fontsize=15, fontweight = 'bold')\n",
    "plt.show()"
   ]
  },
  {
   "cell_type": "markdown",
   "metadata": {
    "id": "w45i-qJ1Tg2E"
   },
   "source": [
    "> ### Conclusões\n",
    "***\n",
    "Através destes dados encontramos um **padrão entre a maioria da população brasileira**: \n",
    "\n",
    "* Recebem até 2 salários mínimos,\n",
    "\n",
    "* (Elaboração própria) Possui aproximadamente 1,70 metros de altura.\n",
    "\n",
    "* Entre a faixa de idade entre 35 e 55 anos.\n",
    "\n",
    "\n",
    "Algo intrigante são os vales nas idades que pode ter sido alterado pelos entrevistados onde provavelmente disseram que tinha por exemplo 20 anos mas tinha 21. \n",
    "\n",
    "\n",
    "Análises estatísticas:\n",
    "\n",
    "1. Renda possui uma assimetria à direita,\n",
    "\n",
    "2. Altura possui simetria entre suas medidas,\n",
    "\n",
    "3. Idade possui assimetria à direita.\n",
    "\n",
    "\n"
   ]
  },
  {
   "cell_type": "markdown",
   "metadata": {
    "id": "pnAH1T5fTg2F"
   },
   "source": [
    "### Para a variável RENDA, construa um histograma somente com as informações das pessoas com rendimento até R$ 20.000,00"
   ]
  },
  {
   "cell_type": "code",
   "execution_count": null,
   "metadata": {
    "colab": {
     "base_uri": "https://localhost:8080/"
    },
    "id": "C7zHF1vPTg2G",
    "outputId": "e16e12d4-a780-438b-c33b-2b5a928d1b64"
   },
   "outputs": [
    {
     "data": {
      "image/png": "[encoded data removed]",
      "text/plain": [
       "<Figure size 1152x432 with 1 Axes>"
      ]
     },
     "metadata": {
      "needs_background": "light"
     },
     "output_type": "display_data"
    }
   ],
   "source": [
    "renda_20 = dados.Renda.loc[dados['Renda'] <= 20000]\n",
    "plt.figure(figsize=(16,6))\n",
    "sns.histplot(data=renda_20, kde=True)\n",
    "plt.title('Distribuição de renda até 20 mil reais')\n",
    "plt.ylabel('Quantidade de pessoas')\n",
    "plt.show()"
   ]
  },
  {
   "cell_type": "markdown",
   "metadata": {
    "id": "vvtzLOUKTg2H"
   },
   "source": [
    "### Tabelas de: Frequências e Percentuais do cruzando das variáveis SEXO e COR\n"
   ]
  },
  {
   "cell_type": "code",
   "execution_count": null,
   "metadata": {
    "id": "sChJRo_qTg2I"
   },
   "outputs": [],
   "source": [
    "sexo = {\n",
    "    0: 'Masculino', \n",
    "    1: 'Feminino'\n",
    "}\n",
    "cor = {\n",
    "    0: 'Indígena', \n",
    "    2: 'Branca', \n",
    "    4: 'Preta', \n",
    "    6: 'Amarela', \n",
    "    8: 'Parda', \n",
    "    9: 'Sem declaração'\n",
    "}\n",
    "anos_de_estudo = {\n",
    "    1: 'Sem instrução e menos de 1 ano', \n",
    "    2: '1 ano', \n",
    "    3: '2 anos', \n",
    "    4: '3 anos', \n",
    "    5: '4 anos', \n",
    "    6: '5 anos', \n",
    "    7: '6 anos', \n",
    "    8: '7 anos', \n",
    "    9: '8 anos', \n",
    "    10: '9 anos', \n",
    "    11: '10 anos', \n",
    "    12: '11 anos', \n",
    "    13: '12 anos', \n",
    "    14: '13 anos', \n",
    "    15: '14 anos', \n",
    "    16: '15 anos ou mais', \n",
    "    17: 'Não determinados'\n",
    "}\n",
    "uf = {\n",
    "    11: 'Rondônia', \n",
    "    12: 'Acre', \n",
    "    13: 'Amazonas', \n",
    "    14: 'Roraima', \n",
    "    15: 'Pará', \n",
    "    16: 'Amapá', \n",
    "    17: 'Tocantins', \n",
    "    21: 'Maranhão', \n",
    "    22: 'Piauí', \n",
    "    23: 'Ceará', \n",
    "    24: 'Rio Grande do Norte', \n",
    "    25: 'Paraíba', \n",
    "    26: 'Pernambuco', \n",
    "    27: 'Alagoas', \n",
    "    28: 'Sergipe', \n",
    "    29: 'Bahia', \n",
    "    31: 'Minas Gerais', \n",
    "    32: 'Espírito Santo', \n",
    "    33: 'Rio de Janeiro', \n",
    "    35: 'São Paulo', \n",
    "    41: 'Paraná', \n",
    "    42: 'Santa Catarina', \n",
    "    43: 'Rio Grande do Sul', \n",
    "    50: 'Mato Grosso do Sul', \n",
    "    51: 'Mato Grosso', \n",
    "    52: 'Goiás', \n",
    "    53: 'Distrito Federal'\n",
    "}"
   ]
  },
  {
   "cell_type": "code",
   "execution_count": null,
   "metadata": {
    "colab": {
     "base_uri": "https://localhost:8080/"
    },
    "id": "IuropdcFE_y-",
    "outputId": "62c71f98-be25-41de-d309-319d771bc980"
   },
   "outputs": [
    {
     "data": {
      "text/html": [
       "<div>\n",
       "<style scoped>\n",
       "    .dataframe tbody tr th:only-of-type {\n",
       "        vertical-align: middle;\n",
       "    }\n",
       "\n",
       "    .dataframe tbody tr th {\n",
       "        vertical-align: top;\n",
       "    }\n",
       "\n",
       "    .dataframe thead th {\n",
       "        text-align: right;\n",
       "    }\n",
       "</style>\n",
       "<table border=\"1\" class=\"dataframe\">\n",
       "  <thead>\n",
       "    <tr style=\"text-align: right;\">\n",
       "      <th>Cor</th>\n",
       "      <th>Indígena</th>\n",
       "      <th>Branca</th>\n",
       "      <th>Preta</th>\n",
       "      <th>Amarela</th>\n",
       "      <th>Parda</th>\n",
       "    </tr>\n",
       "    <tr>\n",
       "      <th>Sexo</th>\n",
       "      <th></th>\n",
       "      <th></th>\n",
       "      <th></th>\n",
       "      <th></th>\n",
       "      <th></th>\n",
       "    </tr>\n",
       "  </thead>\n",
       "  <tbody>\n",
       "    <tr>\n",
       "      <th>Masculino</th>\n",
       "      <td>256</td>\n",
       "      <td>22194</td>\n",
       "      <td>5502</td>\n",
       "      <td>235</td>\n",
       "      <td>25063</td>\n",
       "    </tr>\n",
       "    <tr>\n",
       "      <th>Feminino</th>\n",
       "      <td>101</td>\n",
       "      <td>9621</td>\n",
       "      <td>2889</td>\n",
       "      <td>117</td>\n",
       "      <td>10862</td>\n",
       "    </tr>\n",
       "  </tbody>\n",
       "</table>\n",
       "</div>"
      ],
      "text/plain": [
       "Cor        Indígena  Branca  Preta  Amarela  Parda\n",
       "Sexo                                              \n",
       "Masculino       256   22194   5502      235  25063\n",
       "Feminino        101    9621   2889      117  10862"
      ]
     },
     "execution_count": 19,
     "metadata": {},
     "output_type": "execute_result"
    }
   ],
   "source": [
    "frequencia_sxc = pd.crosstab(dados.Sexo,dados.Cor)\n",
    "frequencia_sxc.rename(index=sexo,columns=cor, inplace=True)\n",
    "frequencia_sxc"
   ]
  },
  {
   "cell_type": "code",
   "execution_count": null,
   "metadata": {
    "colab": {
     "base_uri": "https://localhost:8080/"
    },
    "id": "8yAPr3jNFxIr",
    "outputId": "88ee6aef-189e-4840-f882-84d941ae4a8f"
   },
   "outputs": [
    {
     "data": {
      "text/html": [
       "<div>\n",
       "<style scoped>\n",
       "    .dataframe tbody tr th:only-of-type {\n",
       "        vertical-align: middle;\n",
       "    }\n",
       "\n",
       "    .dataframe tbody tr th {\n",
       "        vertical-align: top;\n",
       "    }\n",
       "\n",
       "    .dataframe thead th {\n",
       "        text-align: right;\n",
       "    }\n",
       "</style>\n",
       "<table border=\"1\" class=\"dataframe\">\n",
       "  <thead>\n",
       "    <tr style=\"text-align: right;\">\n",
       "      <th>Cor</th>\n",
       "      <th>Indígena</th>\n",
       "      <th>Branca</th>\n",
       "      <th>Preta</th>\n",
       "      <th>Amarela</th>\n",
       "      <th>Parda</th>\n",
       "    </tr>\n",
       "    <tr>\n",
       "      <th>Sexo</th>\n",
       "      <th></th>\n",
       "      <th></th>\n",
       "      <th></th>\n",
       "      <th></th>\n",
       "      <th></th>\n",
       "    </tr>\n",
       "  </thead>\n",
       "  <tbody>\n",
       "    <tr>\n",
       "      <th>Masculino</th>\n",
       "      <td>0.333160</td>\n",
       "      <td>28.883394</td>\n",
       "      <td>7.160333</td>\n",
       "      <td>0.305830</td>\n",
       "      <td>32.617126</td>\n",
       "    </tr>\n",
       "    <tr>\n",
       "      <th>Feminino</th>\n",
       "      <td>0.131442</td>\n",
       "      <td>12.520822</td>\n",
       "      <td>3.759761</td>\n",
       "      <td>0.152264</td>\n",
       "      <td>14.135867</td>\n",
       "    </tr>\n",
       "  </tbody>\n",
       "</table>\n",
       "</div>"
      ],
      "text/plain": [
       "Cor        Indígena     Branca     Preta   Amarela      Parda\n",
       "Sexo                                                         \n",
       "Masculino  0.333160  28.883394  7.160333  0.305830  32.617126\n",
       "Feminino   0.131442  12.520822  3.759761  0.152264  14.135867"
      ]
     },
     "execution_count": 20,
     "metadata": {},
     "output_type": "execute_result"
    }
   ],
   "source": [
    "percentual_sxc = pd.crosstab(dados.Sexo,dados.Cor, normalize=True)*100\n",
    "percentual_sxc.rename(index=sexo,columns=cor, inplace=True)\n",
    "percentual_sxc"
   ]
  },
  {
   "cell_type": "markdown",
   "metadata": {
    "id": "2jLZmww2Tg2O"
   },
   "source": [
    "> ### Conclusões\n",
    "Atráves destes dados podemos analisar que a etnia parda que são conhecida como \"minoria\" na verdade são maioria populacional em 2015, e tanto a etnia indigena quanto a amarela se aproximam em ambos os sexos e estas são na verdade a minoria populacional."
   ]
  },
  {
   "cell_type": "markdown",
   "metadata": {
    "id": "Aoeayf6zTg2P"
   },
   "source": [
    "##Análise descritiva com a variável RENDA "
   ]
  },
  {
   "cell_type": "markdown",
   "metadata": {
    "id": "c2CtT71oTg2P"
   },
   "source": [
    "### Obtenha a média aritimética"
   ]
  },
  {
   "cell_type": "code",
   "execution_count": null,
   "metadata": {
    "colab": {
     "base_uri": "https://localhost:8080/"
    },
    "id": "qlJESCU6Tg2P",
    "outputId": "2d31e663-eb6c-40f2-c545-326a1e7b5bc4"
   },
   "outputs": [
    {
     "name": "stdout",
     "output_type": "stream",
     "text": [
      "A média da renda populacional é 2000.3831988547631 .\n"
     ]
    }
   ],
   "source": [
    "media_renda = dados.Renda.mean()\n",
    "print(f'A média da renda populacional é {media_renda} .')"
   ]
  },
  {
   "cell_type": "markdown",
   "metadata": {
    "id": "Xd4saPBCTg2R"
   },
   "source": [
    "### Obtenha a mediana"
   ]
  },
  {
   "cell_type": "code",
   "execution_count": null,
   "metadata": {
    "colab": {
     "base_uri": "https://localhost:8080/"
    },
    "id": "vHTqX-UATg2R",
    "outputId": "fc47e19f-10e0-4bb1-a466-6e31cc3ea65e"
   },
   "outputs": [
    {
     "name": "stdout",
     "output_type": "stream",
     "text": [
      "A mediana da Renda populacional é 1200.0 .\n"
     ]
    }
   ],
   "source": [
    "mediana_renda = dados.Renda.median()\n",
    "print(f'A mediana da Renda populacional é {mediana_renda} .')"
   ]
  },
  {
   "cell_type": "markdown",
   "metadata": {
    "id": "_e40rDSwTg2U"
   },
   "source": [
    "### Obtenha a moda"
   ]
  },
  {
   "cell_type": "code",
   "execution_count": null,
   "metadata": {
    "colab": {
     "base_uri": "https://localhost:8080/"
    },
    "id": "BFOOdYOvTg2V",
    "outputId": "dea3a7a5-7fd0-464b-b9de-2fc2387c9ea8"
   },
   "outputs": [
    {
     "name": "stdout",
     "output_type": "stream",
     "text": [
      "A moda da Renda populacional é 788 .\n"
     ]
    }
   ],
   "source": [
    "moda_renda = dados.Renda.mode()\n",
    "print(f'A moda da Renda populacional é {moda_renda[0]} .')"
   ]
  },
  {
   "cell_type": "markdown",
   "metadata": {
    "id": "Rnr1gOCMTg2X"
   },
   "source": [
    "### Obtenha o desvio médio absoluto"
   ]
  },
  {
   "cell_type": "code",
   "execution_count": null,
   "metadata": {
    "colab": {
     "base_uri": "https://localhost:8080/"
    },
    "id": "TmE_1QDGTg2Y",
    "outputId": "f1a7e0af-1552-4917-c43b-08df41af711f"
   },
   "outputs": [
    {
     "name": "stdout",
     "output_type": "stream",
     "text": [
      "O desvio médio absoluto é 1526.4951371644931 .\n"
     ]
    }
   ],
   "source": [
    "desvio_abs = dados['Renda'].mad()\n",
    "print(f'O desvio médio absoluto é {desvio_abs} .')"
   ]
  },
  {
   "cell_type": "markdown",
   "metadata": {
    "id": "hCgV_XaQTg2Z"
   },
   "source": [
    "### Obtenha a variância"
   ]
  },
  {
   "cell_type": "code",
   "execution_count": null,
   "metadata": {
    "colab": {
     "base_uri": "https://localhost:8080/"
    },
    "id": "SwRgACeGTg2a",
    "outputId": "f1174ebd-e402-4a46-b776-a3d945ec7739"
   },
   "outputs": [
    {
     "name": "stdout",
     "output_type": "stream",
     "text": [
      "A variância entre a Renda é 11044906.00622118 .\n"
     ]
    }
   ],
   "source": [
    "variancia = dados['Renda'].var()\n",
    "print(f'A variância entre a Renda é {variancia} .')"
   ]
  },
  {
   "cell_type": "markdown",
   "metadata": {
    "id": "gsO6MKOcTg2c"
   },
   "source": [
    "### Obtenha o desvio-padrão"
   ]
  },
  {
   "cell_type": "code",
   "execution_count": null,
   "metadata": {
    "colab": {
     "base_uri": "https://localhost:8080/"
    },
    "id": "gR-LVTRYTg2d",
    "outputId": "a8f93791-6bbe-4d44-9185-b92898405fb5"
   },
   "outputs": [
    {
     "name": "stdout",
     "output_type": "stream",
     "text": [
      "O desvio padrão entre a Renda é <bound method Series.std of 0         800\n",
      "1        1150\n",
      "2         880\n",
      "3        3500\n",
      "4         150\n",
      "         ... \n",
      "76835     812\n",
      "76836    1500\n",
      "76837    1300\n",
      "76838    1500\n",
      "76839     900\n",
      "Name: Renda, Length: 76840, dtype: int64> .\n"
     ]
    }
   ],
   "source": [
    "desvio_padrao = dados['Renda'].std\n",
    "print(f'O desvio padrão entre a Renda é {desvio_padrao} .')"
   ]
  },
  {
   "cell_type": "markdown",
   "metadata": {
    "id": "vG-rdO5fTg2f"
   },
   "source": [
    "### Média, mediana e valor máximo da variável RENDA segundo SEXO e COR\n"
   ]
  },
  {
   "cell_type": "code",
   "execution_count": null,
   "metadata": {
    "colab": {
     "base_uri": "https://localhost:8080/"
    },
    "id": "VgxygKWXTg2g",
    "outputId": "c11bdd03-4335-4f00-a1b7-73e35d2e7f41"
   },
   "outputs": [
    {
     "data": {
      "text/html": [
       "<div>\n",
       "<style scoped>\n",
       "    .dataframe tbody tr th:only-of-type {\n",
       "        vertical-align: middle;\n",
       "    }\n",
       "\n",
       "    .dataframe tbody tr th {\n",
       "        vertical-align: top;\n",
       "    }\n",
       "\n",
       "    .dataframe thead tr th {\n",
       "        text-align: left;\n",
       "    }\n",
       "\n",
       "    .dataframe thead tr:last-of-type th {\n",
       "        text-align: right;\n",
       "    }\n",
       "</style>\n",
       "<table border=\"1\" class=\"dataframe\">\n",
       "  <thead>\n",
       "    <tr>\n",
       "      <th></th>\n",
       "      <th colspan=\"5\" halign=\"left\">max</th>\n",
       "      <th colspan=\"5\" halign=\"left\">mean</th>\n",
       "      <th colspan=\"5\" halign=\"left\">median</th>\n",
       "    </tr>\n",
       "    <tr>\n",
       "      <th>Cor</th>\n",
       "      <th>Indígena</th>\n",
       "      <th>Branca</th>\n",
       "      <th>Preta</th>\n",
       "      <th>Amarela</th>\n",
       "      <th>Parda</th>\n",
       "      <th>Indígena</th>\n",
       "      <th>Branca</th>\n",
       "      <th>Preta</th>\n",
       "      <th>Amarela</th>\n",
       "      <th>Parda</th>\n",
       "      <th>Indígena</th>\n",
       "      <th>Branca</th>\n",
       "      <th>Preta</th>\n",
       "      <th>Amarela</th>\n",
       "      <th>Parda</th>\n",
       "    </tr>\n",
       "    <tr>\n",
       "      <th>Sexo</th>\n",
       "      <th></th>\n",
       "      <th></th>\n",
       "      <th></th>\n",
       "      <th></th>\n",
       "      <th></th>\n",
       "      <th></th>\n",
       "      <th></th>\n",
       "      <th></th>\n",
       "      <th></th>\n",
       "      <th></th>\n",
       "      <th></th>\n",
       "      <th></th>\n",
       "      <th></th>\n",
       "      <th></th>\n",
       "      <th></th>\n",
       "    </tr>\n",
       "  </thead>\n",
       "  <tbody>\n",
       "    <tr>\n",
       "      <th>Masculino</th>\n",
       "      <td>10000.0</td>\n",
       "      <td>200000.0</td>\n",
       "      <td>50000.0</td>\n",
       "      <td>50000.0</td>\n",
       "      <td>100000.0</td>\n",
       "      <td>1081.710938</td>\n",
       "      <td>2925.744435</td>\n",
       "      <td>1603.861687</td>\n",
       "      <td>4758.251064</td>\n",
       "      <td>1659.577425</td>\n",
       "      <td>797.5</td>\n",
       "      <td>1700.0</td>\n",
       "      <td>1200.0</td>\n",
       "      <td>2800.0</td>\n",
       "      <td>1200.0</td>\n",
       "    </tr>\n",
       "    <tr>\n",
       "      <th>Feminino</th>\n",
       "      <td>120000.0</td>\n",
       "      <td>100000.0</td>\n",
       "      <td>23000.0</td>\n",
       "      <td>20000.0</td>\n",
       "      <td>30000.0</td>\n",
       "      <td>2464.386139</td>\n",
       "      <td>2109.866750</td>\n",
       "      <td>1134.596400</td>\n",
       "      <td>3027.341880</td>\n",
       "      <td>1176.758516</td>\n",
       "      <td>788.0</td>\n",
       "      <td>1200.0</td>\n",
       "      <td>800.0</td>\n",
       "      <td>1500.0</td>\n",
       "      <td>800.0</td>\n",
       "    </tr>\n",
       "  </tbody>\n",
       "</table>\n",
       "</div>"
      ],
      "text/plain": [
       "                max                              ...  median                        \n",
       "Cor        Indígena    Branca    Preta  Amarela  ...  Branca   Preta Amarela   Parda\n",
       "Sexo                                             ...                                \n",
       "Masculino   10000.0  200000.0  50000.0  50000.0  ...  1700.0  1200.0  2800.0  1200.0\n",
       "Feminino   120000.0  100000.0  23000.0  20000.0  ...  1200.0   800.0  1500.0   800.0\n",
       "\n",
       "[2 rows x 15 columns]"
      ]
     },
     "execution_count": 27,
     "metadata": {},
     "output_type": "execute_result"
    }
   ],
   "source": [
    "media_mediana_maximo = pd.crosstab(index= dados.Sexo ,\n",
    "                        columns= dados.Cor,\n",
    "                        aggfunc={'mean','median','max'},\n",
    "                        values = dados.Renda)\n",
    "media_mediana_maximo.rename(index = sexo, columns=cor, inplace=True)\n",
    "media_mediana_maximo"
   ]
  },
  {
   "cell_type": "markdown",
   "metadata": {
    "id": "ibndm9iwTg2i"
   },
   "source": [
    "> ### Conclusões\n",
    "\n",
    "Através dessa tabela podemos analisar desigualdades sociais sobre diversas etnias e talvez possuindo correlações com sexo.\n",
    "\n",
    "\n",
    "Por exemplo, alguns dados que são estarrecedores: um homem indígena no máximo conseguiu ganhar 10 mil reais, porém, uma mulher indígena conseguiu no máximo 120 mil reais (apresentando  um limite extremo quando comparados). A média masculina fica em torno de 1080 reais, enquanto, o sexo feminino recebe um acima do dobro e a mediana masculina e feminina ficam próximos ao salário mínimo \n",
    "\n",
    "\n",
    "A etnia preta masculina possui mesmo máximo que a amarela (50 mil) e o feminino também se aproxima do mesmo máximo da amarela mas quando comparamos a media masculina possui a penúltima menor média quando comparada com outras etnias (indigena masculino é a menor média). A média feminina é a menor média quando comparada a mediana masculina negra, assim como a parda, fica muito próximo do salário mínimo e a mediana feminina preta, assim como a parda, recebem práticamente o salário minimo.\n",
    "\n",
    "\n",
    "Curiosidade interessante também com a etnia amarela que possui uma média superior em ambos os sexos, e a sua mediana de um homem amarelo possui o quase quatros vezes o salário mínimo da época (788,0) e uma mulher amarela possui a maior renda quando comparada com outras etnias femininas.\n"
   ]
  },
  {
   "cell_type": "markdown",
   "metadata": {
    "id": "CleJ6c1rTg2i"
   },
   "source": [
    "### Medidas de dispersão da variável RENDA segundo SEXO e COR\n"
   ]
  },
  {
   "cell_type": "code",
   "execution_count": null,
   "metadata": {
    "colab": {
     "base_uri": "https://localhost:8080/"
    },
    "id": "bNv-eWZ3Tg2j",
    "outputId": "b0c20d87-9a72-40bb-8996-33b9b246186a"
   },
   "outputs": [
    {
     "data": {
      "text/html": [
       "<div>\n",
       "<style scoped>\n",
       "    .dataframe tbody tr th:only-of-type {\n",
       "        vertical-align: middle;\n",
       "    }\n",
       "\n",
       "    .dataframe tbody tr th {\n",
       "        vertical-align: top;\n",
       "    }\n",
       "\n",
       "    .dataframe thead tr th {\n",
       "        text-align: left;\n",
       "    }\n",
       "\n",
       "    .dataframe thead tr:last-of-type th {\n",
       "        text-align: right;\n",
       "    }\n",
       "</style>\n",
       "<table border=\"1\" class=\"dataframe\">\n",
       "  <thead>\n",
       "    <tr>\n",
       "      <th></th>\n",
       "      <th colspan=\"2\" halign=\"left\">mad</th>\n",
       "      <th colspan=\"2\" halign=\"left\">std</th>\n",
       "      <th colspan=\"2\" halign=\"left\">var</th>\n",
       "    </tr>\n",
       "    <tr>\n",
       "      <th>Sexo</th>\n",
       "      <th>Masculino</th>\n",
       "      <th>Feminino</th>\n",
       "      <th>Masculino</th>\n",
       "      <th>Feminino</th>\n",
       "      <th>Masculino</th>\n",
       "      <th>Feminino</th>\n",
       "    </tr>\n",
       "    <tr>\n",
       "      <th>Cor</th>\n",
       "      <th></th>\n",
       "      <th></th>\n",
       "      <th></th>\n",
       "      <th></th>\n",
       "      <th></th>\n",
       "      <th></th>\n",
       "    </tr>\n",
       "  </thead>\n",
       "  <tbody>\n",
       "    <tr>\n",
       "      <th>Indígena</th>\n",
       "      <td>798.91</td>\n",
       "      <td>3007.89</td>\n",
       "      <td>1204.09</td>\n",
       "      <td>11957.50</td>\n",
       "      <td>1449841.13</td>\n",
       "      <td>1.429818e+08</td>\n",
       "    </tr>\n",
       "    <tr>\n",
       "      <th>Branca</th>\n",
       "      <td>2261.01</td>\n",
       "      <td>1670.97</td>\n",
       "      <td>4750.79</td>\n",
       "      <td>3251.01</td>\n",
       "      <td>22570023.41</td>\n",
       "      <td>1.056909e+07</td>\n",
       "    </tr>\n",
       "    <tr>\n",
       "      <th>Preta</th>\n",
       "      <td>975.60</td>\n",
       "      <td>705.45</td>\n",
       "      <td>1936.31</td>\n",
       "      <td>1349.80</td>\n",
       "      <td>3749293.59</td>\n",
       "      <td>1.821960e+06</td>\n",
       "    </tr>\n",
       "    <tr>\n",
       "      <th>Amarela</th>\n",
       "      <td>3709.60</td>\n",
       "      <td>2549.15</td>\n",
       "      <td>5740.82</td>\n",
       "      <td>3731.17</td>\n",
       "      <td>32957069.62</td>\n",
       "      <td>1.392166e+07</td>\n",
       "    </tr>\n",
       "    <tr>\n",
       "      <th>Parda</th>\n",
       "      <td>1125.83</td>\n",
       "      <td>811.58</td>\n",
       "      <td>2312.09</td>\n",
       "      <td>1596.23</td>\n",
       "      <td>5345747.15</td>\n",
       "      <td>2.547960e+06</td>\n",
       "    </tr>\n",
       "  </tbody>\n",
       "</table>\n",
       "</div>"
      ],
      "text/plain": [
       "               mad                std                    var              \n",
       "Sexo     Masculino Feminino Masculino  Feminino    Masculino      Feminino\n",
       "Cor                                                                       \n",
       "Indígena    798.91  3007.89   1204.09  11957.50   1449841.13  1.429818e+08\n",
       "Branca     2261.01  1670.97   4750.79   3251.01  22570023.41  1.056909e+07\n",
       "Preta       975.60   705.45   1936.31   1349.80   3749293.59  1.821960e+06\n",
       "Amarela    3709.60  2549.15   5740.82   3731.17  32957069.62  1.392166e+07\n",
       "Parda      1125.83   811.58   2312.09   1596.23   5345747.15  2.547960e+06"
      ]
     },
     "execution_count": 28,
     "metadata": {},
     "output_type": "execute_result"
    }
   ],
   "source": [
    "renda_dispersao = pd.crosstab(index= dados.Cor ,\n",
    "                        columns= dados.Sexo,\n",
    "                        aggfunc={'mad','var','std'},\n",
    "                        values = dados.Renda).round(2)\n",
    "renda_dispersao.rename(index = cor, columns=sexo, inplace=True)\n",
    "renda_dispersao"
   ]
  },
  {
   "cell_type": "markdown",
   "metadata": {
    "id": "57aHvJMSTg2l"
   },
   "source": [
    "> ### Conclusões\n",
    "\n",
    "Nessa análise será estudado respectivamente: desvio padão absoluto, desvio padrão e variancia.\n",
    "\n",
    "Sobre o desvio padrão absoluto: Na sexo masculina podemos ver que a etnia amarela possui a maior dispersão, e no sexo feminino a etnia que mais dispersa é a índigena, ou seja, possui dados dispersos. A etnia preta possui a menor dispersão em ambos os sexos.\n",
    "\n",
    "\n",
    "Sobre o desvio padrão: No sexo masculino podemos ver que a etnia que possui a menor dispersão é indígena, ou seja, possui uma valores mais constantes e próximos, enquanto branco é instável."
   ]
  },
  {
   "cell_type": "markdown",
   "metadata": {
    "id": "QSYjkdyOTg2l"
   },
   "source": [
    "### Box plot da variável RENDA segundo SEXO e COR\n",
    "\n",
    "#### Mais informações: https://seaborn.pydata.org/generated/seaborn.boxplot.html"
   ]
  },
  {
   "cell_type": "code",
   "execution_count": null,
   "metadata": {
    "colab": {
     "base_uri": "https://localhost:8080/"
    },
    "id": "qvDJz0m3cOkm",
    "outputId": "6ea209ef-e695-4354-dea4-efd2a2c47925"
   },
   "outputs": [
    {
     "data": {
      "text/html": [
       "<div>\n",
       "<style scoped>\n",
       "    .dataframe tbody tr th:only-of-type {\n",
       "        vertical-align: middle;\n",
       "    }\n",
       "\n",
       "    .dataframe tbody tr th {\n",
       "        vertical-align: top;\n",
       "    }\n",
       "\n",
       "    .dataframe thead th {\n",
       "        text-align: right;\n",
       "    }\n",
       "</style>\n",
       "<table border=\"1\" class=\"dataframe\">\n",
       "  <thead>\n",
       "    <tr style=\"text-align: right;\">\n",
       "      <th></th>\n",
       "      <th>UF</th>\n",
       "      <th>Sexo</th>\n",
       "      <th>Idade</th>\n",
       "      <th>Cor</th>\n",
       "      <th>Anos de Estudo</th>\n",
       "      <th>Renda</th>\n",
       "      <th>Altura</th>\n",
       "    </tr>\n",
       "  </thead>\n",
       "  <tbody>\n",
       "    <tr>\n",
       "      <th>0</th>\n",
       "      <td>11</td>\n",
       "      <td>0</td>\n",
       "      <td>23</td>\n",
       "      <td>8</td>\n",
       "      <td>12</td>\n",
       "      <td>800</td>\n",
       "      <td>1.603808</td>\n",
       "    </tr>\n",
       "    <tr>\n",
       "      <th>1</th>\n",
       "      <td>11</td>\n",
       "      <td>1</td>\n",
       "      <td>23</td>\n",
       "      <td>2</td>\n",
       "      <td>12</td>\n",
       "      <td>1150</td>\n",
       "      <td>1.739790</td>\n",
       "    </tr>\n",
       "    <tr>\n",
       "      <th>2</th>\n",
       "      <td>11</td>\n",
       "      <td>1</td>\n",
       "      <td>35</td>\n",
       "      <td>8</td>\n",
       "      <td>15</td>\n",
       "      <td>880</td>\n",
       "      <td>1.760444</td>\n",
       "    </tr>\n",
       "    <tr>\n",
       "      <th>3</th>\n",
       "      <td>11</td>\n",
       "      <td>0</td>\n",
       "      <td>46</td>\n",
       "      <td>2</td>\n",
       "      <td>6</td>\n",
       "      <td>3500</td>\n",
       "      <td>1.783158</td>\n",
       "    </tr>\n",
       "    <tr>\n",
       "      <th>4</th>\n",
       "      <td>11</td>\n",
       "      <td>1</td>\n",
       "      <td>47</td>\n",
       "      <td>8</td>\n",
       "      <td>9</td>\n",
       "      <td>150</td>\n",
       "      <td>1.690631</td>\n",
       "    </tr>\n",
       "    <tr>\n",
       "      <th>...</th>\n",
       "      <td>...</td>\n",
       "      <td>...</td>\n",
       "      <td>...</td>\n",
       "      <td>...</td>\n",
       "      <td>...</td>\n",
       "      <td>...</td>\n",
       "      <td>...</td>\n",
       "    </tr>\n",
       "    <tr>\n",
       "      <th>76835</th>\n",
       "      <td>53</td>\n",
       "      <td>1</td>\n",
       "      <td>46</td>\n",
       "      <td>2</td>\n",
       "      <td>11</td>\n",
       "      <td>812</td>\n",
       "      <td>1.687030</td>\n",
       "    </tr>\n",
       "    <tr>\n",
       "      <th>76836</th>\n",
       "      <td>53</td>\n",
       "      <td>0</td>\n",
       "      <td>30</td>\n",
       "      <td>4</td>\n",
       "      <td>7</td>\n",
       "      <td>1500</td>\n",
       "      <td>1.792934</td>\n",
       "    </tr>\n",
       "    <tr>\n",
       "      <th>76837</th>\n",
       "      <td>53</td>\n",
       "      <td>0</td>\n",
       "      <td>32</td>\n",
       "      <td>8</td>\n",
       "      <td>12</td>\n",
       "      <td>1300</td>\n",
       "      <td>1.830587</td>\n",
       "    </tr>\n",
       "    <tr>\n",
       "      <th>76838</th>\n",
       "      <td>53</td>\n",
       "      <td>0</td>\n",
       "      <td>57</td>\n",
       "      <td>8</td>\n",
       "      <td>4</td>\n",
       "      <td>1500</td>\n",
       "      <td>1.726344</td>\n",
       "    </tr>\n",
       "    <tr>\n",
       "      <th>76839</th>\n",
       "      <td>53</td>\n",
       "      <td>0</td>\n",
       "      <td>38</td>\n",
       "      <td>8</td>\n",
       "      <td>4</td>\n",
       "      <td>900</td>\n",
       "      <td>1.658305</td>\n",
       "    </tr>\n",
       "  </tbody>\n",
       "</table>\n",
       "<p>76840 rows × 7 columns</p>\n",
       "</div>"
      ],
      "text/plain": [
       "       UF  Sexo  Idade  Cor  Anos de Estudo  Renda    Altura\n",
       "0      11     0     23    8              12    800  1.603808\n",
       "1      11     1     23    2              12   1150  1.739790\n",
       "2      11     1     35    8              15    880  1.760444\n",
       "3      11     0     46    2               6   3500  1.783158\n",
       "4      11     1     47    8               9    150  1.690631\n",
       "...    ..   ...    ...  ...             ...    ...       ...\n",
       "76835  53     1     46    2              11    812  1.687030\n",
       "76836  53     0     30    4               7   1500  1.792934\n",
       "76837  53     0     32    8              12   1300  1.830587\n",
       "76838  53     0     57    8               4   1500  1.726344\n",
       "76839  53     0     38    8               4    900  1.658305\n",
       "\n",
       "[76840 rows x 7 columns]"
      ]
     },
     "execution_count": 29,
     "metadata": {},
     "output_type": "execute_result"
    }
   ],
   "source": [
    "dados.rename(columns= cor)\n"
   ]
  },
  {
   "cell_type": "code",
   "execution_count": null,
   "metadata": {
    "colab": {
     "base_uri": "https://localhost:8080/",
     "height": 504
    },
    "id": "8hGa4SMRTg2m",
    "outputId": "da1a19d9-edd8-4b30-f65f-f617d68f8614"
   },
   "outputs": [
    {
     "data": {
      "image/png": "[encoded data removed]",
      "text/plain": [
       "<Figure size 864x576 with 1 Axes>"
      ]
     },
     "metadata": {
      "needs_background": "light"
     },
     "output_type": "display_data"
    }
   ],
   "source": [
    "box = sns.boxplot(data = dados.query(\"Renda<10000\"),x='Renda', y='Cor', hue='Sexo', orient='h')\n",
    "box.figure.set_size_inches(12,8)\n",
    "box.set_xlabel('Renda por R$', fontsize=16)\n",
    "box.set_ylabel('Cor', fontsize=16)\n",
    "\n",
    "box.set_yticklabels(['Indígena','Branca','Preta','Amarela','Parda','Sem declaração'],fontsize=12)\n",
    "handles, _ = box.get_legend_handles_labels()\n",
    "box.legend(handles,['Masculino','Feminino'], fontsize=12)\n",
    "\n",
    "plt.show()"
   ]
  },
  {
   "cell_type": "markdown",
   "metadata": {
    "id": "ROiIQRFhTg2o"
   },
   "source": [
    "> ### Conclusões\n",
    "\n",
    "Nesta análise podemos visualizar que tem uma diferença interessante é a desigualdade tanto por cor quanto por sexo.\n",
    "\n",
    "A cor Indígena possui a menor mediana e é a única que sua mediana em ambos os sexos estão próximos, possui a menor variação salariais limites superiores masculino chegando aos 3 mil reais, e pouquíssimos outliers em ambos os sexos recebem acima de 3 mil reais.\n",
    "\n",
    "A cor amarela possui a mediana está a frente que todas as outras cores, ou seja, essa cor possui uma renda que todos os outros."
   ]
  },
  {
   "cell_type": "markdown",
   "metadata": {
    "id": "zi4BaGooTg2o"
   },
   "source": [
    "### Percentual de pessoas de nosso <i>dataset</i> ganham um salário mínimo (R$ 788,00) ou menos?\n",
    "\n",
    "#### Mais informações: https://docs.scipy.org/doc/scipy/reference/generated/scipy.stats.percentileofscore.html\n"
   ]
  },
  {
   "cell_type": "code",
   "execution_count": null,
   "metadata": {
    "colab": {
     "base_uri": "https://localhost:8080/"
    },
    "id": "9DwXo2yITg2p",
    "outputId": "e3119884-5a75-49a4-d38c-abbdbae44fd9"
   },
   "outputs": [
    {
     "name": "stdout",
     "output_type": "stream",
     "text": [
      "Quantidade de pessoas que recebem um salário mínimo: 28.87%\n"
     ]
    }
   ],
   "source": [
    "from scipy import stats\n",
    "percentual = stats.percentileofscore(dados.Renda, 788, kind='weak')\n",
    "print('Quantidade de pessoas que recebem um salário mínimo: {0:.2f}%'.format(percentual))"
   ]
  },
  {
   "cell_type": "markdown",
   "metadata": {
    "id": "bl0fOMuKTg2q"
   },
   "source": [
    "###Valor máximo ganho por 99% das pessoas de nosso <i>dataset</i>?\n"
   ]
  },
  {
   "cell_type": "code",
   "execution_count": null,
   "metadata": {
    "colab": {
     "base_uri": "https://localhost:8080/"
    },
    "id": "cIVwy8bKTg2q",
    "outputId": "4f33c910-dc6e-4e2a-b0b8-29b12fe53875"
   },
   "outputs": [
    {
     "name": "stdout",
     "output_type": "stream",
     "text": [
      "Valor máximo de ganho de 99% das pessoas é R$15000.00\n"
     ]
    }
   ],
   "source": [
    "valor = dados.Renda.quantile(0.99)\n",
    "print('Valor máximo de ganho de 99% das pessoas é R${0:.2f}'.format(valor))"
   ]
  },
  {
   "cell_type": "markdown",
   "metadata": {
    "id": "zeRhvtngTg2r"
   },
   "source": [
    "###Média, mediana, valor máximo e desvio-padrão da variável RENDA segundo ANOS DE ESTUDO e SEXO\n"
   ]
  },
  {
   "cell_type": "code",
   "execution_count": null,
   "metadata": {
    "colab": {
     "base_uri": "https://localhost:8080/"
    },
    "id": "8nxGdQIpTg2s",
    "outputId": "5c0c8075-1c4c-4ddd-b379-7528312bb885"
   },
   "outputs": [
    {
     "data": {
      "text/html": [
       "<div>\n",
       "<style scoped>\n",
       "    .dataframe tbody tr th:only-of-type {\n",
       "        vertical-align: middle;\n",
       "    }\n",
       "\n",
       "    .dataframe tbody tr th {\n",
       "        vertical-align: top;\n",
       "    }\n",
       "\n",
       "    .dataframe thead tr th {\n",
       "        text-align: left;\n",
       "    }\n",
       "\n",
       "    .dataframe thead tr:last-of-type th {\n",
       "        text-align: right;\n",
       "    }\n",
       "</style>\n",
       "<table border=\"1\" class=\"dataframe\">\n",
       "  <thead>\n",
       "    <tr>\n",
       "      <th></th>\n",
       "      <th colspan=\"2\" halign=\"left\">mad</th>\n",
       "      <th colspan=\"2\" halign=\"left\">max</th>\n",
       "      <th colspan=\"2\" halign=\"left\">std</th>\n",
       "      <th colspan=\"2\" halign=\"left\">var</th>\n",
       "    </tr>\n",
       "    <tr>\n",
       "      <th>Sexo</th>\n",
       "      <th>Masculino</th>\n",
       "      <th>Feminino</th>\n",
       "      <th>Masculino</th>\n",
       "      <th>Feminino</th>\n",
       "      <th>Masculino</th>\n",
       "      <th>Feminino</th>\n",
       "      <th>Masculino</th>\n",
       "      <th>Feminino</th>\n",
       "    </tr>\n",
       "    <tr>\n",
       "      <th>Anos de Estudo</th>\n",
       "      <th></th>\n",
       "      <th></th>\n",
       "      <th></th>\n",
       "      <th></th>\n",
       "      <th></th>\n",
       "      <th></th>\n",
       "      <th></th>\n",
       "      <th></th>\n",
       "    </tr>\n",
       "  </thead>\n",
       "  <tbody>\n",
       "    <tr>\n",
       "      <th>Sem instrução e menos de 1 ano</th>\n",
       "      <td>560.58</td>\n",
       "      <td>425.93</td>\n",
       "      <td>30000.0</td>\n",
       "      <td>10000.0</td>\n",
       "      <td>1023.90</td>\n",
       "      <td>639.31</td>\n",
       "      <td>1048381.21</td>\n",
       "      <td>408719.24</td>\n",
       "    </tr>\n",
       "    <tr>\n",
       "      <th>1 ano</th>\n",
       "      <td>584.03</td>\n",
       "      <td>350.26</td>\n",
       "      <td>30000.0</td>\n",
       "      <td>2000.0</td>\n",
       "      <td>1331.95</td>\n",
       "      <td>425.29</td>\n",
       "      <td>1774092.27</td>\n",
       "      <td>180873.15</td>\n",
       "    </tr>\n",
       "    <tr>\n",
       "      <th>2 anos</th>\n",
       "      <td>592.27</td>\n",
       "      <td>376.44</td>\n",
       "      <td>40000.0</td>\n",
       "      <td>4000.0</td>\n",
       "      <td>1435.17</td>\n",
       "      <td>498.23</td>\n",
       "      <td>2059723.91</td>\n",
       "      <td>248237.29</td>\n",
       "    </tr>\n",
       "    <tr>\n",
       "      <th>3 anos</th>\n",
       "      <td>696.39</td>\n",
       "      <td>349.82</td>\n",
       "      <td>80000.0</td>\n",
       "      <td>3500.0</td>\n",
       "      <td>2143.80</td>\n",
       "      <td>424.12</td>\n",
       "      <td>4595879.01</td>\n",
       "      <td>179881.55</td>\n",
       "    </tr>\n",
       "    <tr>\n",
       "      <th>4 anos</th>\n",
       "      <td>750.23</td>\n",
       "      <td>392.27</td>\n",
       "      <td>50000.0</td>\n",
       "      <td>10000.0</td>\n",
       "      <td>1419.82</td>\n",
       "      <td>629.55</td>\n",
       "      <td>2015893.91</td>\n",
       "      <td>396337.48</td>\n",
       "    </tr>\n",
       "    <tr>\n",
       "      <th>5 anos</th>\n",
       "      <td>714.91</td>\n",
       "      <td>374.53</td>\n",
       "      <td>35000.0</td>\n",
       "      <td>8000.0</td>\n",
       "      <td>1484.65</td>\n",
       "      <td>635.78</td>\n",
       "      <td>2204187.37</td>\n",
       "      <td>404219.57</td>\n",
       "    </tr>\n",
       "    <tr>\n",
       "      <th>6 anos</th>\n",
       "      <td>759.47</td>\n",
       "      <td>351.40</td>\n",
       "      <td>25000.0</td>\n",
       "      <td>6000.0</td>\n",
       "      <td>1476.63</td>\n",
       "      <td>574.55</td>\n",
       "      <td>2180432.03</td>\n",
       "      <td>330104.29</td>\n",
       "    </tr>\n",
       "    <tr>\n",
       "      <th>7 anos</th>\n",
       "      <td>720.45</td>\n",
       "      <td>356.28</td>\n",
       "      <td>40000.0</td>\n",
       "      <td>9000.0</td>\n",
       "      <td>1419.71</td>\n",
       "      <td>602.04</td>\n",
       "      <td>2015572.72</td>\n",
       "      <td>362449.79</td>\n",
       "    </tr>\n",
       "    <tr>\n",
       "      <th>8 anos</th>\n",
       "      <td>848.82</td>\n",
       "      <td>422.69</td>\n",
       "      <td>30000.0</td>\n",
       "      <td>18000.0</td>\n",
       "      <td>1515.58</td>\n",
       "      <td>896.78</td>\n",
       "      <td>2296994.00</td>\n",
       "      <td>804216.54</td>\n",
       "    </tr>\n",
       "    <tr>\n",
       "      <th>9 anos</th>\n",
       "      <td>774.89</td>\n",
       "      <td>405.21</td>\n",
       "      <td>60000.0</td>\n",
       "      <td>20000.0</td>\n",
       "      <td>2137.66</td>\n",
       "      <td>973.22</td>\n",
       "      <td>4569610.68</td>\n",
       "      <td>947160.38</td>\n",
       "    </tr>\n",
       "    <tr>\n",
       "      <th>10 anos</th>\n",
       "      <td>985.06</td>\n",
       "      <td>389.76</td>\n",
       "      <td>45000.0</td>\n",
       "      <td>6000.0</td>\n",
       "      <td>2078.61</td>\n",
       "      <td>620.61</td>\n",
       "      <td>4320618.42</td>\n",
       "      <td>385159.14</td>\n",
       "    </tr>\n",
       "    <tr>\n",
       "      <th>11 anos</th>\n",
       "      <td>1166.36</td>\n",
       "      <td>680.15</td>\n",
       "      <td>200000.0</td>\n",
       "      <td>100000.0</td>\n",
       "      <td>2676.54</td>\n",
       "      <td>1819.04</td>\n",
       "      <td>7163860.71</td>\n",
       "      <td>3308908.04</td>\n",
       "    </tr>\n",
       "    <tr>\n",
       "      <th>12 anos</th>\n",
       "      <td>1417.12</td>\n",
       "      <td>1081.64</td>\n",
       "      <td>30000.0</td>\n",
       "      <td>120000.0</td>\n",
       "      <td>2268.08</td>\n",
       "      <td>4851.83</td>\n",
       "      <td>5144193.86</td>\n",
       "      <td>23540288.44</td>\n",
       "    </tr>\n",
       "    <tr>\n",
       "      <th>13 anos</th>\n",
       "      <td>1869.88</td>\n",
       "      <td>1146.72</td>\n",
       "      <td>25000.0</td>\n",
       "      <td>20000.0</td>\n",
       "      <td>2797.12</td>\n",
       "      <td>2053.79</td>\n",
       "      <td>7823862.39</td>\n",
       "      <td>4218052.42</td>\n",
       "    </tr>\n",
       "    <tr>\n",
       "      <th>14 anos</th>\n",
       "      <td>2281.50</td>\n",
       "      <td>1311.51</td>\n",
       "      <td>50000.0</td>\n",
       "      <td>20000.0</td>\n",
       "      <td>3987.21</td>\n",
       "      <td>2064.08</td>\n",
       "      <td>15897883.25</td>\n",
       "      <td>4260440.02</td>\n",
       "    </tr>\n",
       "    <tr>\n",
       "      <th>15 anos ou mais</th>\n",
       "      <td>4205.58</td>\n",
       "      <td>2574.04</td>\n",
       "      <td>200000.0</td>\n",
       "      <td>100000.0</td>\n",
       "      <td>7447.61</td>\n",
       "      <td>4212.77</td>\n",
       "      <td>55466948.25</td>\n",
       "      <td>17747437.04</td>\n",
       "    </tr>\n",
       "    <tr>\n",
       "      <th>Não determinados</th>\n",
       "      <td>614.09</td>\n",
       "      <td>286.37</td>\n",
       "      <td>7000.0</td>\n",
       "      <td>3000.0</td>\n",
       "      <td>979.65</td>\n",
       "      <td>459.99</td>\n",
       "      <td>959711.66</td>\n",
       "      <td>211587.09</td>\n",
       "    </tr>\n",
       "  </tbody>\n",
       "</table>\n",
       "</div>"
      ],
      "text/plain": [
       "                                     mad           ...          var             \n",
       "Sexo                           Masculino Feminino  ...    Masculino     Feminino\n",
       "Anos de Estudo                                     ...                          \n",
       "Sem instrução e menos de 1 ano    560.58   425.93  ...   1048381.21    408719.24\n",
       "1 ano                             584.03   350.26  ...   1774092.27    180873.15\n",
       "2 anos                            592.27   376.44  ...   2059723.91    248237.29\n",
       "3 anos                            696.39   349.82  ...   4595879.01    179881.55\n",
       "4 anos                            750.23   392.27  ...   2015893.91    396337.48\n",
       "5 anos                            714.91   374.53  ...   2204187.37    404219.57\n",
       "6 anos                            759.47   351.40  ...   2180432.03    330104.29\n",
       "7 anos                            720.45   356.28  ...   2015572.72    362449.79\n",
       "8 anos                            848.82   422.69  ...   2296994.00    804216.54\n",
       "9 anos                            774.89   405.21  ...   4569610.68    947160.38\n",
       "10 anos                           985.06   389.76  ...   4320618.42    385159.14\n",
       "11 anos                          1166.36   680.15  ...   7163860.71   3308908.04\n",
       "12 anos                          1417.12  1081.64  ...   5144193.86  23540288.44\n",
       "13 anos                          1869.88  1146.72  ...   7823862.39   4218052.42\n",
       "14 anos                          2281.50  1311.51  ...  15897883.25   4260440.02\n",
       "15 anos ou mais                  4205.58  2574.04  ...  55466948.25  17747437.04\n",
       "Não determinados                  614.09   286.37  ...    959711.66    211587.09\n",
       "\n",
       "[17 rows x 8 columns]"
      ]
     },
     "execution_count": 33,
     "metadata": {},
     "output_type": "execute_result"
    }
   ],
   "source": [
    "renda_por_sex_e_estudo = pd.crosstab(index= dados['Anos de Estudo'] ,\n",
    "                                      columns= dados.Sexo,\n",
    "                                      aggfunc={'max','mad','var','std'},\n",
    "                                      values = dados.Renda).round(2)\n",
    "renda_por_sex_e_estudo.rename(index = anos_de_estudo, columns=sexo, inplace=True)\n",
    "renda_por_sex_e_estudo"
   ]
  },
  {
   "cell_type": "markdown",
   "metadata": {
    "id": "1Rm1n7a_Tg2u"
   },
   "source": [
    "### Box plot da variável RENDA segundo ANOS DE ESTUDO e SEXO\n",
    "\n",
    "#### Mais informações: https://seaborn.pydata.org/generated/seaborn.boxplot.html"
   ]
  },
  {
   "cell_type": "code",
   "execution_count": null,
   "metadata": {
    "id": "rgMU0WyJTg2v"
   },
   "outputs": [],
   "source": [
    "box = sns.boxplot(data = dados.query(\"Renda < 10000 and Idade == 50\"),x='Renda', y='Anos de Estudo', hue='Sexo', orient='h')\n",
    "box.set_xlabel('R$', fontsize=16)\n",
    "box.set_ylabel('Anos de estudo', fontsize=16)\n",
    "box.set_title('RENDA por SEXO e ANOS DE ESTUDO ', fontsize=18)\n",
    "\n",
    "box.set_yticklabels([key for key in anos_de_estudo.values()],fontsize=12)\n",
    "handles, _ = box.get_legend_handles_labels()\n",
    "box.legend(handles,['Masculino','Feminino'], fontsize=12)\n",
    "\n",
    "box.figure.set_size_inches(16,8)\n",
    "plt.show()"
   ]
  },
  {
   "cell_type": "markdown",
   "metadata": {
    "id": "LrEECOmNTg2w"
   },
   "source": [
    "> ### Conclusões\n",
    "\n",
    "Nessa análise podemos visualizar uma correlação: quão menor é sua escolaridade menor será sua renda mas existem exceções (outliers).\n",
    "\n",
    "Em todos os casos os sexo masculino recebe mais que uma mulher.\n",
    "\n",
    "A renda é proporcional aos anos de estudo.\n",
    "\n",
    "E apenas homens decidiram a opção \"Não determinados\".\n"
   ]
  },
  {
   "cell_type": "markdown",
   "metadata": {
    "id": "0fIFSxj8Tg2x"
   },
   "source": [
    "###Média, mediana, valor máximo e desvio-padrão da variável RENDA segundo as UNIDADES DA FEDERAÇÃO\n"
   ]
  },
  {
   "cell_type": "code",
   "execution_count": null,
   "metadata": {
    "id": "91IxQFJoTg2x"
   },
   "outputs": [],
   "source": [
    "renda_estatistica_uf = dados.groupby(['UF']).agg({'Renda':['mean','max','mad','std']}) \n",
    "renda_estatistica_uf.rename(index = uf)"
   ]
  },
  {
   "cell_type": "markdown",
   "metadata": {
    "id": "6NfAKimkTg2y"
   },
   "source": [
    "###Box plot com variável RENDA segundo as UNIDADES DA FEDERAÇÃO por SEXO\n"
   ]
  },
  {
   "cell_type": "code",
   "execution_count": null,
   "metadata": {
    "id": "XdEGG3blTg2z"
   },
   "outputs": [],
   "source": [
    "box = sns.boxplot(data = dados.query(\"Renda < 10000 and Idade == 50\"),x='Renda', y='UF', hue='Sexo', orient='h')\n",
    "box.set_xlabel('R$', fontsize=16)\n",
    "box.set_ylabel('Estados', fontsize=16)\n",
    "box.set_title('RENDA por ESTADOS ', fontsize=18)\n",
    "\n",
    "box.set_yticklabels([key for key in uf.values()],fontsize=12)\n",
    "handles, _ = box.get_legend_handles_labels()\n",
    "box.legend(handles,['Masculino','Feminino'], fontsize=12)\n",
    "\n",
    "box.figure.set_size_inches(16,12)\n",
    "plt.show()"
   ]
  },
  {
   "cell_type": "markdown",
   "metadata": {
    "id": "7ssOt3MRTg22"
   },
   "source": [
    "> ### Conclusões\n",
    "\n",
    "Nesta análise podemos visualizar alguns fatos curiosos e pertinentes.\n",
    "\n",
    "Começando com uns mais intrigantes, a variação salarial no Distrito Federal tem uma mediana masculina de 4 mil reais e o primeiro quartil começa acima de 2 mil reais enquanto a mediana feminina é em 2 mil reais. É o único que possui uma variação salarial alta com ambos os sexos e os maiores limites.\n",
    "\n",
    "No caso de Roraima e Amapá: possuem variações em sexos destintos com Amapá possuindo o maior salário feminino no Brasil e Roraima como o segundo melhor salário masculino."
   ]
  },
  {
   "cell_type": "markdown",
   "metadata": {
    "id": "FwDh0xCt_CeC"
   },
   "source": [
    "<strong>Para pensar: Valorize o Trabalho que salva o ambiente.</strong>"
   ]
  },
  {
   "cell_type": "code",
   "execution_count": null,
   "metadata": {},
   "outputs": [],
   "source": []
  }
 ],
 "metadata": {
  "colab": {
   "collapsed_sections": [],
   "include_colab_link": true,
   "name": "Análise_Descritiva.ipynb",
   "provenance": []
  },
  "kernelspec": {
   "display_name": "Python 3",
   "language": "python",
   "name": "python3"
  },
  "language_info": {
   "codemirror_mode": {
    "name": "ipython",
    "version": 3
   },
   "file_extension": ".py",
   "mimetype": "text/x-python",
   "name": "python",
   "nbconvert_exporter": "python",
   "pygments_lexer": "ipython3",
   "version": "3.8.8"
  }
 },
 "nbformat": 4,
 "nbformat_minor": 1
}
